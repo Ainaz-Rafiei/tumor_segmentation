{
 "cells": [
  {
   "cell_type": "code",
   "execution_count": 3,
   "id": "06cf7a65",
   "metadata": {},
   "outputs": [
    {
     "data": {
      "text/plain": [
       "'d:\\\\championship\\\\DM-i-AI-2025\\\\tumor-segmentation'"
      ]
     },
     "execution_count": 3,
     "metadata": {},
     "output_type": "execute_result"
    }
   ],
   "source": [
    "pwd"
   ]
  },
  {
   "cell_type": "code",
   "execution_count": 5,
   "id": "0218e052",
   "metadata": {},
   "outputs": [
    {
     "name": "stdout",
     "output_type": "stream",
     "text": [
      "Saved payload for data\\patients\\imgs\\patient_001.png to predict_payload_1.json\n"
     ]
    },
    {
     "name": "stderr",
     "output_type": "stream",
     "text": [
      "<>:5: SyntaxWarning: invalid escape sequence '\\p'\n",
      "<>:5: SyntaxWarning: invalid escape sequence '\\p'\n",
      "C:\\Users\\aynaz\\AppData\\Local\\Temp\\ipykernel_14104\\682890750.py:5: SyntaxWarning: invalid escape sequence '\\p'\n",
      "  image_path = \"data\\patients\\imgs\\patient_001.png\"\n"
     ]
    }
   ],
   "source": [
    "import base64\n",
    "import json\n",
    "\n",
    "# 🔁 CHANGE THIS to any image path you want to test\n",
    "image_path = \"data\\patients\\imgs\\patient_001.png\"\n",
    "output_json = \"predict_payload_1.json\"\n",
    "\n",
    "# Read and encode image\n",
    "with open(image_path, \"rb\") as img_file:\n",
    "    encoded_str = base64.b64encode(img_file.read()).decode(\"utf-8\")\n",
    "\n",
    "# Prepare JSON payload\n",
    "payload = {\n",
    "    \"img\": encoded_str\n",
    "}\n",
    "\n",
    "# Save to file\n",
    "with open(output_json, \"w\") as f:\n",
    "    json.dump(payload, f)\n",
    "\n",
    "print(f\"Saved payload for {image_path} to {output_json}\")\n"
   ]
  },
  {
   "cell_type": "code",
   "execution_count": null,
   "id": "c4eea9d9",
   "metadata": {},
   "outputs": [],
   "source": []
  }
 ],
 "metadata": {
  "kernelspec": {
   "display_name": "base",
   "language": "python",
   "name": "python3"
  },
  "language_info": {
   "codemirror_mode": {
    "name": "ipython",
    "version": 3
   },
   "file_extension": ".py",
   "mimetype": "text/x-python",
   "name": "python",
   "nbconvert_exporter": "python",
   "pygments_lexer": "ipython3",
   "version": "3.12.7"
  }
 },
 "nbformat": 4,
 "nbformat_minor": 5
}
